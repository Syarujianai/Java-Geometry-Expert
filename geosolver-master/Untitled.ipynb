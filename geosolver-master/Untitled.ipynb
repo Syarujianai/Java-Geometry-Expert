{
 "cells": [
  {
   "cell_type": "code",
   "execution_count": 87,
   "metadata": {
    "pycharm": {
     "is_executing": true
    },
    "scrolled": true
   },
   "outputs": [],
   "source": [
    "import pickle\n",
    "with open('extracted_417_2.pk', 'rb') as f:\n",
    "    extract_list = pickle.load(f)"
   ]
  },
  {
   "cell_type": "code",
   "execution_count": 88,
   "metadata": {},
   "outputs": [],
   "source": [
    "for sample in extract_list:\n",
    "    if len(sample) == 0:\n",
    "        for k in extract_list[0].keys():\n",
    "            sample[k] = {}\n",
    "\n",
    "    pairs = []\n",
    "    for char in sample['chars'].keys():\n",
    "        top_left, bottom_right = sample['chars'][char]\n",
    "        mid_point = ((top_left[0] + bottom_right[0]) / 2, (top_left[1] + bottom_right[1]) / 2)\n",
    "        for pointid, loc in sample['points'].items():\n",
    "            distance = (mid_point[0] - loc[0]) ** 2 + (mid_point[1] - loc[1]) ** 2\n",
    "            pairs.append((distance, char, pointid))\n",
    "    pairs.sort(key=lambda x: x[0])\n",
    "    match_char = {}\n",
    "    for pair in pairs:\n",
    "        if pair[0] < 500 and pair[1] not in match_char.keys() and pair[2] not in match_char.values():\n",
    "            match_char[pair[1]] = pair[2]\n",
    "    sample['char_to_dig'] = match_char\n",
    "    sample['dig_to_char'] = {}\n",
    "    for char in match_char:\n",
    "        sample['dig_to_char'][match_char[char]] = char\n"
   ]
  },
  {
   "cell_type": "code",
   "execution_count": 30,
   "metadata": {
    "scrolled": true
   },
   "outputs": [
    {
     "name": "stdout",
     "output_type": "stream",
     "text": [
      "[0, 1, 2, 3, 4, 5, 6]\n",
      "('D', 'G', 'E')\n",
      "('G', 'E', 'B')\n",
      "('E', 'F', 'C')\n",
      "('A', 'E', 'F')\n",
      "('C', 'F', 'E')\n",
      "('F', 'G', 'E')\n",
      "('E', 'G', 'F')\n",
      "('D', 'F', 'E')\n",
      "('B', 'E', 'F')\n",
      "('A', 'E', 'G')\n",
      "('C', 'G', 'E')\n",
      "('E', 'G', 'D')\n",
      "('G', 'E', 'F')\n",
      "('B', 'E', 'G')\n",
      "('F', 'E', 'G')\n",
      "('F', 'E', 'A')\n",
      "('G', 'E', 'A')\n",
      "('E', 'F', 'G')\n",
      "('E', 'G', 'C')\n",
      "('F', 'E', 'B')\n",
      "('G', 'F', 'E')\n",
      "('E', 'F', 'D')\n"
     ]
    }
   ],
   "source": [
    "dig_to_char = extract_list[1]['dig_to_char']\n",
    "print(dig_to_char.keys())\n",
    "for angle in extract_list[1]['angles']:\n",
    "    if angle[0] not in dig_to_char.keys() or angle[1] not in dig_to_char.keys() or angle[2] not in dig_to_char.keys():\n",
    "        continue\n",
    "    print(dig_to_char[angle[0]], dig_to_char[angle[1]], dig_to_char[angle[2]])"
   ]
  },
  {
   "cell_type": "code",
   "execution_count": null,
   "metadata": {},
   "outputs": [],
   "source": [
    "dig_to_char = extract_list[1]['dig_to_char']\n",
    "print(dig_to_char.keys())\n",
    "for angle in extract_list[1]['angles']:\n",
    "    if angle[0] not in dig_to_char.keys() or angle[1] not in dig_to_char.keys() or angle[2] not in dig_to_char.keys():\n",
    "        continue\n",
    "    print(dig_to_char[angle[0]], dig_to_char[angle[1]], dig_to_char[angle[2]])"
   ]
  },
  {
   "cell_type": "code",
   "execution_count": 39,
   "metadata": {},
   "outputs": [],
   "source": [
    "knt = 0\n",
    "for sample in extract_list:\n",
    "    if len(sample) == 0 or len(sample['char_to_dig']) == 0:\n",
    "        knt += 1\n",
    "        continue\n",
    "#     if len(sample['char_to_dig'])\n",
    "#     charcounter.update(sample['char_to_dig'].keys())"
   ]
  },
  {
   "cell_type": "code",
   "execution_count": 81,
   "metadata": {},
   "outputs": [],
   "source": [
    "char_list = ['A', 'B', 'C', 'D', 'O', 'E', 'F', 'G', 'P', 'M', 'N', 'H']\n",
    "char_dict = {}\n",
    "for i, char in enumerate(char_list):\n",
    "    char_dict[char] = i"
   ]
  },
  {
   "cell_type": "code",
   "execution_count": 67,
   "metadata": {
    "scrolled": true
   },
   "outputs": [],
   "source": [
    "# build char graph\n",
    "import numpy as np\n",
    "\n",
    "for sample in extract_list:\n",
    "    mat = np.zeros([len(char_list), len(char_list)])\n",
    "    if len(sample) == 0:\n",
    "        continue\n",
    "    for line in sample['lines']:\n",
    "        if line[0] in sample['dig_to_char'].keys() and line[1] in sample['dig_to_char'].keys():\n",
    "            p1 = sample['dig_to_char'][line[0]]\n",
    "            p2 = sample['dig_to_char'][line[1]]\n",
    "            mat[char_dict[p1]][char_dict[p2]] = 1\n",
    "            mat[char_dict[p2]][char_dict[p1]] = 1\n",
    "    for circle in sample['circles']:\n",
    "        if circle[0] in sample['dig_to_char'].keys() and circle[1] in sample['dig_to_char'].keys():\n",
    "            p1 = sample['dig_to_char'][circle[0]]\n",
    "            p2 = sample['dig_to_char'][circle[1]]\n",
    "            mat[char_dict[p1]][char_dict[p2]] = 1\n",
    "            mat[char_dict[p2]][char_dict[p1]] = 1\n",
    "    for char in sample['char_to_dig'].keys():\n",
    "        mat[char_dict[char]][char_dict[char]] = 1\n",
    "    sample['mat'] = mat"
   ]
  },
  {
   "cell_type": "code",
   "execution_count": 70,
   "metadata": {},
   "outputs": [],
   "source": [
    "for sample in extract_list:\n",
    "    sample['char_loc'] = {}\n",
    "    for char, dig in sample['char_to_dig'].items():\n",
    "        loc = (int(sample['points'][dig][0]+0.5), int(sample['points'][dig][1]+0.5))\n",
    "        sample['char_loc'][char] = loc"
   ]
  },
  {
   "cell_type": "code",
   "execution_count": 75,
   "metadata": {},
   "outputs": [],
   "source": [
    "with open('extracted_417_new.pk', 'wb') as f:\n",
    "     pickle.dump(extract_list, f)"
   ]
  },
  {
   "cell_type": "code",
   "execution_count": 96,
   "metadata": {
    "scrolled": true
   },
   "outputs": [
    {
     "name": "stdout",
     "output_type": "stream",
     "text": [
      "3.971928765469363\n"
     ]
    }
   ],
   "source": [
    "print(np.average([len(sample['dig_to_char']) for sample in extract_list]))"
   ]
  },
  {
   "cell_type": "code",
   "execution_count": 77,
   "metadata": {},
   "outputs": [
    {
     "data": {
      "text/plain": [
       "2.0"
      ]
     },
     "execution_count": 77,
     "metadata": {},
     "output_type": "execute_result"
    }
   ],
   "source": [
    "np.average([1,2,3])"
   ]
  },
  {
   "cell_type": "code",
   "execution_count": 85,
   "metadata": {},
   "outputs": [
    {
     "data": {
      "text/plain": [
       "{'char_loc': {},\n",
       " 'char_to_dig': {},\n",
       " 'chars': {},\n",
       " 'circles': {},\n",
       " 'dig_to_char': {},\n",
       " 'lines': {},\n",
       " 'mat': array([[0., 0., 0., 0., 0., 0., 0., 0., 0., 0., 0., 0.],\n",
       "        [0., 0., 0., 0., 0., 0., 0., 0., 0., 0., 0., 0.],\n",
       "        [0., 0., 0., 0., 0., 0., 0., 0., 0., 0., 0., 0.],\n",
       "        [0., 0., 0., 0., 0., 0., 0., 0., 0., 0., 0., 0.],\n",
       "        [0., 0., 0., 0., 0., 0., 0., 0., 0., 0., 0., 0.],\n",
       "        [0., 0., 0., 0., 0., 0., 0., 0., 0., 0., 0., 0.],\n",
       "        [0., 0., 0., 0., 0., 0., 0., 0., 0., 0., 0., 0.],\n",
       "        [0., 0., 0., 0., 0., 0., 0., 0., 0., 0., 0., 0.],\n",
       "        [0., 0., 0., 0., 0., 0., 0., 0., 0., 0., 0., 0.],\n",
       "        [0., 0., 0., 0., 0., 0., 0., 0., 0., 0., 0., 0.],\n",
       "        [0., 0., 0., 0., 0., 0., 0., 0., 0., 0., 0., 0.],\n",
       "        [0., 0., 0., 0., 0., 0., 0., 0., 0., 0., 0., 0.]])}"
      ]
     },
     "execution_count": 85,
     "metadata": {},
     "output_type": "execute_result"
    }
   ],
   "source": [
    "sample"
   ]
  }
 ],
 "metadata": {
  "kernelspec": {
   "display_name": "Python [conda env:geo27]",
   "language": "python",
   "name": "conda-env-geo27-py"
  },
  "language_info": {
   "codemirror_mode": {
    "name": "ipython",
    "version": 2
   },
   "file_extension": ".py",
   "mimetype": "text/x-python",
   "name": "python",
   "nbconvert_exporter": "python",
   "pygments_lexer": "ipython2",
   "version": "2.7.17"
  },
  "pycharm": {
   "stem_cell": {
    "cell_type": "raw",
    "metadata": {
     "collapsed": false
    },
    "source": []
   }
  }
 },
 "nbformat": 4,
 "nbformat_minor": 4
}
